{
  "nbformat": 4,
  "nbformat_minor": 0,
  "metadata": {
    "colab": {
      "provenance": [],
      "include_colab_link": true
    },
    "kernelspec": {
      "name": "python3",
      "display_name": "Python 3"
    },
    "language_info": {
      "name": "python"
    }
  },
  "cells": [
    {
      "cell_type": "markdown",
      "metadata": {
        "id": "view-in-github",
        "colab_type": "text"
      },
      "source": [
        "<a href=\"https://colab.research.google.com/github/kartik-das/Data-Analysis/blob/master/Analysis_on_Wine_Dataset.ipynb\" target=\"_parent\"><img src=\"https://colab.research.google.com/assets/colab-badge.svg\" alt=\"Open In Colab\"/></a>"
      ]
    },
    {
      "cell_type": "code",
      "source": [
        "#Kartik Das\n"
      ],
      "metadata": {
        "id": "u1vmzJBl4eGB"
      },
      "execution_count": 1,
      "outputs": []
    },
    {
      "cell_type": "code",
      "source": [
        "'''\n",
        "Dataset description:\n",
        "11 features of 2000 different types of wines\n",
        "Output: quality as a score\n",
        "Categorized as follows:\n",
        "quality: 6 and 7 as “average” ; 8 as “good” ; 3 and 4 and 5 as “poor”\n",
        "'''"
      ],
      "metadata": {
        "id": "EjLpF8wy2NuB"
      },
      "execution_count": null,
      "outputs": []
    },
    {
      "cell_type": "code",
      "execution_count": null,
      "metadata": {
        "id": "PZMnVOzXdr3_"
      },
      "outputs": [],
      "source": [
        "import pandas as pd\n",
        "import numpy as np"
      ]
    },
    {
      "cell_type": "code",
      "source": [
        "from google.colab import drive\n",
        "drive.mount('/content/drive')"
      ],
      "metadata": {
        "colab": {
          "base_uri": "https://localhost:8080/"
        },
        "id": "g81S4nBYeZmQ",
        "outputId": "321c7da4-a381-41d0-87f3-f2e071fbcf21"
      },
      "execution_count": null,
      "outputs": [
        {
          "output_type": "stream",
          "name": "stdout",
          "text": [
            "Drive already mounted at /content/drive; to attempt to forcibly remount, call drive.mount(\"/content/drive\", force_remount=True).\n"
          ]
        }
      ]
    },
    {
      "cell_type": "code",
      "source": [
        "data = pd.read_csv('/content/drive/MyDrive/Dataset.csv',sep=';')\n",
        "data"
      ],
      "metadata": {
        "colab": {
          "base_uri": "https://localhost:8080/",
          "height": 485
        },
        "id": "zCznFDCGec5k",
        "outputId": "d98d7e08-3963-45de-a2e0-961887858add"
      },
      "execution_count": null,
      "outputs": [
        {
          "output_type": "execute_result",
          "data": {
            "text/plain": [
              "      fixed acidity  volatile acidity  citric acid  residual sugar  chlorides  \\\n",
              "0               7.2              0.24         0.19             7.7      0.045   \n",
              "1               5.3              0.76         0.03             2.7      0.043   \n",
              "2               6.6              0.22         0.53            15.1      0.052   \n",
              "3               6.6              0.22         0.53            15.1      0.052   \n",
              "4               8.4              0.28         0.40             8.9      0.048   \n",
              "...             ...               ...          ...             ...        ...   \n",
              "1995            7.0              0.36         0.25             5.7      0.015   \n",
              "1996            6.4              0.31         0.28             2.5      0.039   \n",
              "1997            7.3              0.28         0.35             1.6      0.054   \n",
              "1998            7.4              0.16         0.30             1.4      0.064   \n",
              "1999            6.4              0.31         0.27             7.4      0.049   \n",
              "\n",
              "      free sulfur dioxide  total sulfur dioxide  density    pH  sulphates  \\\n",
              "0                    53.0                 176.0  0.99580  3.17       0.38   \n",
              "1                    27.0                  93.0  0.99320  3.34       0.38   \n",
              "2                    22.0                 136.0  0.99860  2.94       0.35   \n",
              "3                    22.0                 136.0  0.99860  2.94       0.35   \n",
              "4                    33.0                 146.0  0.99880  3.40       0.46   \n",
              "...                   ...                   ...      ...   ...        ...   \n",
              "1995                 14.0                  73.0  0.98963  2.82       0.59   \n",
              "1996                 34.0                 137.0  0.98946  3.22       0.38   \n",
              "1997                 31.0                 148.0  0.99178  3.18       0.47   \n",
              "1998                 34.0                 166.0  0.99136  3.11       0.42   \n",
              "1999                 48.0                 169.0  0.99323  3.27       0.45   \n",
              "\n",
              "        alcohol  quality  \n",
              "0      9.500000        5  \n",
              "1      9.200000        5  \n",
              "2      9.400000        5  \n",
              "3      9.400000        5  \n",
              "4      9.300000        5  \n",
              "...         ...      ...  \n",
              "1995  13.200000        6  \n",
              "1996  12.700000        6  \n",
              "1997  10.700000        5  \n",
              "1998  11.433333        6  \n",
              "1999  11.100000        6  \n",
              "\n",
              "[2000 rows x 12 columns]"
            ],
            "text/html": [
              "\n",
              "  <div id=\"df-46b06785-af59-40ec-bc56-63bb0cc81b1e\">\n",
              "    <div class=\"colab-df-container\">\n",
              "      <div>\n",
              "<style scoped>\n",
              "    .dataframe tbody tr th:only-of-type {\n",
              "        vertical-align: middle;\n",
              "    }\n",
              "\n",
              "    .dataframe tbody tr th {\n",
              "        vertical-align: top;\n",
              "    }\n",
              "\n",
              "    .dataframe thead th {\n",
              "        text-align: right;\n",
              "    }\n",
              "</style>\n",
              "<table border=\"1\" class=\"dataframe\">\n",
              "  <thead>\n",
              "    <tr style=\"text-align: right;\">\n",
              "      <th></th>\n",
              "      <th>fixed acidity</th>\n",
              "      <th>volatile acidity</th>\n",
              "      <th>citric acid</th>\n",
              "      <th>residual sugar</th>\n",
              "      <th>chlorides</th>\n",
              "      <th>free sulfur dioxide</th>\n",
              "      <th>total sulfur dioxide</th>\n",
              "      <th>density</th>\n",
              "      <th>pH</th>\n",
              "      <th>sulphates</th>\n",
              "      <th>alcohol</th>\n",
              "      <th>quality</th>\n",
              "    </tr>\n",
              "  </thead>\n",
              "  <tbody>\n",
              "    <tr>\n",
              "      <th>0</th>\n",
              "      <td>7.2</td>\n",
              "      <td>0.24</td>\n",
              "      <td>0.19</td>\n",
              "      <td>7.7</td>\n",
              "      <td>0.045</td>\n",
              "      <td>53.0</td>\n",
              "      <td>176.0</td>\n",
              "      <td>0.99580</td>\n",
              "      <td>3.17</td>\n",
              "      <td>0.38</td>\n",
              "      <td>9.500000</td>\n",
              "      <td>5</td>\n",
              "    </tr>\n",
              "    <tr>\n",
              "      <th>1</th>\n",
              "      <td>5.3</td>\n",
              "      <td>0.76</td>\n",
              "      <td>0.03</td>\n",
              "      <td>2.7</td>\n",
              "      <td>0.043</td>\n",
              "      <td>27.0</td>\n",
              "      <td>93.0</td>\n",
              "      <td>0.99320</td>\n",
              "      <td>3.34</td>\n",
              "      <td>0.38</td>\n",
              "      <td>9.200000</td>\n",
              "      <td>5</td>\n",
              "    </tr>\n",
              "    <tr>\n",
              "      <th>2</th>\n",
              "      <td>6.6</td>\n",
              "      <td>0.22</td>\n",
              "      <td>0.53</td>\n",
              "      <td>15.1</td>\n",
              "      <td>0.052</td>\n",
              "      <td>22.0</td>\n",
              "      <td>136.0</td>\n",
              "      <td>0.99860</td>\n",
              "      <td>2.94</td>\n",
              "      <td>0.35</td>\n",
              "      <td>9.400000</td>\n",
              "      <td>5</td>\n",
              "    </tr>\n",
              "    <tr>\n",
              "      <th>3</th>\n",
              "      <td>6.6</td>\n",
              "      <td>0.22</td>\n",
              "      <td>0.53</td>\n",
              "      <td>15.1</td>\n",
              "      <td>0.052</td>\n",
              "      <td>22.0</td>\n",
              "      <td>136.0</td>\n",
              "      <td>0.99860</td>\n",
              "      <td>2.94</td>\n",
              "      <td>0.35</td>\n",
              "      <td>9.400000</td>\n",
              "      <td>5</td>\n",
              "    </tr>\n",
              "    <tr>\n",
              "      <th>4</th>\n",
              "      <td>8.4</td>\n",
              "      <td>0.28</td>\n",
              "      <td>0.40</td>\n",
              "      <td>8.9</td>\n",
              "      <td>0.048</td>\n",
              "      <td>33.0</td>\n",
              "      <td>146.0</td>\n",
              "      <td>0.99880</td>\n",
              "      <td>3.40</td>\n",
              "      <td>0.46</td>\n",
              "      <td>9.300000</td>\n",
              "      <td>5</td>\n",
              "    </tr>\n",
              "    <tr>\n",
              "      <th>...</th>\n",
              "      <td>...</td>\n",
              "      <td>...</td>\n",
              "      <td>...</td>\n",
              "      <td>...</td>\n",
              "      <td>...</td>\n",
              "      <td>...</td>\n",
              "      <td>...</td>\n",
              "      <td>...</td>\n",
              "      <td>...</td>\n",
              "      <td>...</td>\n",
              "      <td>...</td>\n",
              "      <td>...</td>\n",
              "    </tr>\n",
              "    <tr>\n",
              "      <th>1995</th>\n",
              "      <td>7.0</td>\n",
              "      <td>0.36</td>\n",
              "      <td>0.25</td>\n",
              "      <td>5.7</td>\n",
              "      <td>0.015</td>\n",
              "      <td>14.0</td>\n",
              "      <td>73.0</td>\n",
              "      <td>0.98963</td>\n",
              "      <td>2.82</td>\n",
              "      <td>0.59</td>\n",
              "      <td>13.200000</td>\n",
              "      <td>6</td>\n",
              "    </tr>\n",
              "    <tr>\n",
              "      <th>1996</th>\n",
              "      <td>6.4</td>\n",
              "      <td>0.31</td>\n",
              "      <td>0.28</td>\n",
              "      <td>2.5</td>\n",
              "      <td>0.039</td>\n",
              "      <td>34.0</td>\n",
              "      <td>137.0</td>\n",
              "      <td>0.98946</td>\n",
              "      <td>3.22</td>\n",
              "      <td>0.38</td>\n",
              "      <td>12.700000</td>\n",
              "      <td>6</td>\n",
              "    </tr>\n",
              "    <tr>\n",
              "      <th>1997</th>\n",
              "      <td>7.3</td>\n",
              "      <td>0.28</td>\n",
              "      <td>0.35</td>\n",
              "      <td>1.6</td>\n",
              "      <td>0.054</td>\n",
              "      <td>31.0</td>\n",
              "      <td>148.0</td>\n",
              "      <td>0.99178</td>\n",
              "      <td>3.18</td>\n",
              "      <td>0.47</td>\n",
              "      <td>10.700000</td>\n",
              "      <td>5</td>\n",
              "    </tr>\n",
              "    <tr>\n",
              "      <th>1998</th>\n",
              "      <td>7.4</td>\n",
              "      <td>0.16</td>\n",
              "      <td>0.30</td>\n",
              "      <td>1.4</td>\n",
              "      <td>0.064</td>\n",
              "      <td>34.0</td>\n",
              "      <td>166.0</td>\n",
              "      <td>0.99136</td>\n",
              "      <td>3.11</td>\n",
              "      <td>0.42</td>\n",
              "      <td>11.433333</td>\n",
              "      <td>6</td>\n",
              "    </tr>\n",
              "    <tr>\n",
              "      <th>1999</th>\n",
              "      <td>6.4</td>\n",
              "      <td>0.31</td>\n",
              "      <td>0.27</td>\n",
              "      <td>7.4</td>\n",
              "      <td>0.049</td>\n",
              "      <td>48.0</td>\n",
              "      <td>169.0</td>\n",
              "      <td>0.99323</td>\n",
              "      <td>3.27</td>\n",
              "      <td>0.45</td>\n",
              "      <td>11.100000</td>\n",
              "      <td>6</td>\n",
              "    </tr>\n",
              "  </tbody>\n",
              "</table>\n",
              "<p>2000 rows × 12 columns</p>\n",
              "</div>\n",
              "      <button class=\"colab-df-convert\" onclick=\"convertToInteractive('df-46b06785-af59-40ec-bc56-63bb0cc81b1e')\"\n",
              "              title=\"Convert this dataframe to an interactive table.\"\n",
              "              style=\"display:none;\">\n",
              "        \n",
              "  <svg xmlns=\"http://www.w3.org/2000/svg\" height=\"24px\"viewBox=\"0 0 24 24\"\n",
              "       width=\"24px\">\n",
              "    <path d=\"M0 0h24v24H0V0z\" fill=\"none\"/>\n",
              "    <path d=\"M18.56 5.44l.94 2.06.94-2.06 2.06-.94-2.06-.94-.94-2.06-.94 2.06-2.06.94zm-11 1L8.5 8.5l.94-2.06 2.06-.94-2.06-.94L8.5 2.5l-.94 2.06-2.06.94zm10 10l.94 2.06.94-2.06 2.06-.94-2.06-.94-.94-2.06-.94 2.06-2.06.94z\"/><path d=\"M17.41 7.96l-1.37-1.37c-.4-.4-.92-.59-1.43-.59-.52 0-1.04.2-1.43.59L10.3 9.45l-7.72 7.72c-.78.78-.78 2.05 0 2.83L4 21.41c.39.39.9.59 1.41.59.51 0 1.02-.2 1.41-.59l7.78-7.78 2.81-2.81c.8-.78.8-2.07 0-2.86zM5.41 20L4 18.59l7.72-7.72 1.47 1.35L5.41 20z\"/>\n",
              "  </svg>\n",
              "      </button>\n",
              "      \n",
              "  <style>\n",
              "    .colab-df-container {\n",
              "      display:flex;\n",
              "      flex-wrap:wrap;\n",
              "      gap: 12px;\n",
              "    }\n",
              "\n",
              "    .colab-df-convert {\n",
              "      background-color: #E8F0FE;\n",
              "      border: none;\n",
              "      border-radius: 50%;\n",
              "      cursor: pointer;\n",
              "      display: none;\n",
              "      fill: #1967D2;\n",
              "      height: 32px;\n",
              "      padding: 0 0 0 0;\n",
              "      width: 32px;\n",
              "    }\n",
              "\n",
              "    .colab-df-convert:hover {\n",
              "      background-color: #E2EBFA;\n",
              "      box-shadow: 0px 1px 2px rgba(60, 64, 67, 0.3), 0px 1px 3px 1px rgba(60, 64, 67, 0.15);\n",
              "      fill: #174EA6;\n",
              "    }\n",
              "\n",
              "    [theme=dark] .colab-df-convert {\n",
              "      background-color: #3B4455;\n",
              "      fill: #D2E3FC;\n",
              "    }\n",
              "\n",
              "    [theme=dark] .colab-df-convert:hover {\n",
              "      background-color: #434B5C;\n",
              "      box-shadow: 0px 1px 3px 1px rgba(0, 0, 0, 0.15);\n",
              "      filter: drop-shadow(0px 1px 2px rgba(0, 0, 0, 0.3));\n",
              "      fill: #FFFFFF;\n",
              "    }\n",
              "  </style>\n",
              "\n",
              "      <script>\n",
              "        const buttonEl =\n",
              "          document.querySelector('#df-46b06785-af59-40ec-bc56-63bb0cc81b1e button.colab-df-convert');\n",
              "        buttonEl.style.display =\n",
              "          google.colab.kernel.accessAllowed ? 'block' : 'none';\n",
              "\n",
              "        async function convertToInteractive(key) {\n",
              "          const element = document.querySelector('#df-46b06785-af59-40ec-bc56-63bb0cc81b1e');\n",
              "          const dataTable =\n",
              "            await google.colab.kernel.invokeFunction('convertToInteractive',\n",
              "                                                     [key], {});\n",
              "          if (!dataTable) return;\n",
              "\n",
              "          const docLinkHtml = 'Like what you see? Visit the ' +\n",
              "            '<a target=\"_blank\" href=https://colab.research.google.com/notebooks/data_table.ipynb>data table notebook</a>'\n",
              "            + ' to learn more about interactive tables.';\n",
              "          element.innerHTML = '';\n",
              "          dataTable['output_type'] = 'display_data';\n",
              "          await google.colab.output.renderOutput(dataTable, element);\n",
              "          const docLink = document.createElement('div');\n",
              "          docLink.innerHTML = docLinkHtml;\n",
              "          element.appendChild(docLink);\n",
              "        }\n",
              "      </script>\n",
              "    </div>\n",
              "  </div>\n",
              "  "
            ]
          },
          "metadata": {},
          "execution_count": 145
        }
      ]
    },
    {
      "cell_type": "code",
      "source": [
        "#Problem 1: Do we require all the 11 features to predict the quality?"
      ],
      "metadata": {
        "id": "TgGn8qYZ299b"
      },
      "execution_count": null,
      "outputs": []
    },
    {
      "cell_type": "code",
      "source": [
        "data.quality.value_counts()"
      ],
      "metadata": {
        "colab": {
          "base_uri": "https://localhost:8080/"
        },
        "id": "wfsKuHFknyRo",
        "outputId": "50db281f-bc94-418b-917e-875695d93f5c"
      },
      "execution_count": null,
      "outputs": [
        {
          "output_type": "execute_result",
          "data": {
            "text/plain": [
              "6    874\n",
              "5    595\n",
              "7    384\n",
              "8     77\n",
              "4     66\n",
              "3      4\n",
              "Name: quality, dtype: int64"
            ]
          },
          "metadata": {},
          "execution_count": 146
        }
      ]
    },
    {
      "cell_type": "code",
      "source": [
        "for i in range(len(data.quality)):\n",
        "    if(data.quality[i] == 6 or data.quality[i] == 7):\n",
        "        data.quality[i] = 'average'\n",
        "    elif(data.quality[i] == 5 or data.quality[i] == 4 or data.quality[i] == 3):\n",
        "        data.quality[i] = 'poor'\n",
        "    else:\n",
        "        data.quality[i] = 'good'"
      ],
      "metadata": {
        "colab": {
          "base_uri": "https://localhost:8080/"
        },
        "id": "Cv9Wvnq9n5Xn",
        "outputId": "f629fde3-100e-4cba-d4f4-8dd9d17ca0e5"
      },
      "execution_count": null,
      "outputs": [
        {
          "output_type": "stream",
          "name": "stderr",
          "text": [
            "<ipython-input-147-bef8c9a5eba7>:5: SettingWithCopyWarning: \n",
            "A value is trying to be set on a copy of a slice from a DataFrame\n",
            "\n",
            "See the caveats in the documentation: https://pandas.pydata.org/pandas-docs/stable/user_guide/indexing.html#returning-a-view-versus-a-copy\n",
            "  data.quality[i] = 'poor'\n"
          ]
        }
      ]
    },
    {
      "cell_type": "code",
      "source": [
        "data.head(20)"
      ],
      "metadata": {
        "colab": {
          "base_uri": "https://localhost:8080/",
          "height": 721
        },
        "id": "Bf--9HWnn90E",
        "outputId": "34e70f40-1512-4ebf-c56a-08f358ef9a9a"
      },
      "execution_count": null,
      "outputs": [
        {
          "output_type": "execute_result",
          "data": {
            "text/plain": [
              "    fixed acidity  volatile acidity  citric acid  residual sugar  chlorides  \\\n",
              "0             7.2              0.24         0.19             7.7      0.045   \n",
              "1             5.3              0.76         0.03             2.7      0.043   \n",
              "2             6.6              0.22         0.53            15.1      0.052   \n",
              "3             6.6              0.22         0.53            15.1      0.052   \n",
              "4             8.4              0.28         0.40             8.9      0.048   \n",
              "5             6.8              0.32         0.34             6.0      0.050   \n",
              "6             6.7              0.24         0.33            12.3      0.046   \n",
              "7             7.4              0.18         0.36            13.1      0.056   \n",
              "8             6.0              0.16         0.30             6.7      0.043   \n",
              "9             6.7              0.24         0.33            12.3      0.046   \n",
              "10            6.8              0.28         0.35             2.3      0.042   \n",
              "11            6.2              0.34         0.30            11.1      0.047   \n",
              "12            6.0              0.27         0.15             1.5      0.056   \n",
              "13            6.0              0.16         0.30             6.7      0.043   \n",
              "14            6.8              0.32         0.34             6.0      0.050   \n",
              "15            8.5              0.24         0.47            15.2      0.057   \n",
              "16            8.1              0.24         0.33            10.2      0.048   \n",
              "17            7.4              0.18         0.36            13.1      0.056   \n",
              "18            7.7              0.23         0.31            10.7      0.038   \n",
              "19            6.5              0.22         0.25            17.1      0.050   \n",
              "\n",
              "    free sulfur dioxide  total sulfur dioxide  density    pH  sulphates  \\\n",
              "0                  53.0                 176.0   0.9958  3.17       0.38   \n",
              "1                  27.0                  93.0   0.9932  3.34       0.38   \n",
              "2                  22.0                 136.0   0.9986  2.94       0.35   \n",
              "3                  22.0                 136.0   0.9986  2.94       0.35   \n",
              "4                  33.0                 146.0   0.9988  3.40       0.46   \n",
              "5                   5.0                 129.0   0.9953  3.19       0.40   \n",
              "6                  31.0                 145.0   0.9983  3.36       0.40   \n",
              "7                  72.0                 163.0   1.0000  3.42       0.35   \n",
              "8                  43.0                 153.0   0.9951  3.63       0.46   \n",
              "9                  31.0                 145.0   0.9983  3.36       0.40   \n",
              "10                 16.0                  85.0   0.9906  3.19       0.56   \n",
              "11                 28.0                 237.0   0.9981  3.18       0.49   \n",
              "12                 35.0                 128.0   0.9936  3.12       0.45   \n",
              "13                 43.0                 153.0   0.9951  3.63       0.46   \n",
              "14                  5.0                 129.0   0.9953  3.19       0.40   \n",
              "15                 40.0                 234.0   1.0005  3.02       0.66   \n",
              "16                 46.0                 141.0   0.9972  3.16       0.48   \n",
              "17                 72.0                 163.0   1.0000  3.42       0.35   \n",
              "18                 59.0                 186.0   0.9969  3.12       0.55   \n",
              "19                 44.0                 138.0   1.0001  3.30       0.37   \n",
              "\n",
              "    alcohol  quality  \n",
              "0       9.5     poor  \n",
              "1       9.2     poor  \n",
              "2       9.4     poor  \n",
              "3       9.4     poor  \n",
              "4       9.3     poor  \n",
              "5       9.1     poor  \n",
              "6       9.5     poor  \n",
              "7       9.1  average  \n",
              "8      10.6     poor  \n",
              "9       9.5     poor  \n",
              "10     12.4  average  \n",
              "11      8.7     poor  \n",
              "12      8.8     poor  \n",
              "13     10.6     poor  \n",
              "14      9.1     poor  \n",
              "15      9.0     poor  \n",
              "16     10.3  average  \n",
              "17      9.1  average  \n",
              "18      9.5  average  \n",
              "19      8.8     poor  "
            ],
            "text/html": [
              "\n",
              "  <div id=\"df-a2d7d670-9cc9-4065-8373-6573c83ac3ce\">\n",
              "    <div class=\"colab-df-container\">\n",
              "      <div>\n",
              "<style scoped>\n",
              "    .dataframe tbody tr th:only-of-type {\n",
              "        vertical-align: middle;\n",
              "    }\n",
              "\n",
              "    .dataframe tbody tr th {\n",
              "        vertical-align: top;\n",
              "    }\n",
              "\n",
              "    .dataframe thead th {\n",
              "        text-align: right;\n",
              "    }\n",
              "</style>\n",
              "<table border=\"1\" class=\"dataframe\">\n",
              "  <thead>\n",
              "    <tr style=\"text-align: right;\">\n",
              "      <th></th>\n",
              "      <th>fixed acidity</th>\n",
              "      <th>volatile acidity</th>\n",
              "      <th>citric acid</th>\n",
              "      <th>residual sugar</th>\n",
              "      <th>chlorides</th>\n",
              "      <th>free sulfur dioxide</th>\n",
              "      <th>total sulfur dioxide</th>\n",
              "      <th>density</th>\n",
              "      <th>pH</th>\n",
              "      <th>sulphates</th>\n",
              "      <th>alcohol</th>\n",
              "      <th>quality</th>\n",
              "    </tr>\n",
              "  </thead>\n",
              "  <tbody>\n",
              "    <tr>\n",
              "      <th>0</th>\n",
              "      <td>7.2</td>\n",
              "      <td>0.24</td>\n",
              "      <td>0.19</td>\n",
              "      <td>7.7</td>\n",
              "      <td>0.045</td>\n",
              "      <td>53.0</td>\n",
              "      <td>176.0</td>\n",
              "      <td>0.9958</td>\n",
              "      <td>3.17</td>\n",
              "      <td>0.38</td>\n",
              "      <td>9.5</td>\n",
              "      <td>poor</td>\n",
              "    </tr>\n",
              "    <tr>\n",
              "      <th>1</th>\n",
              "      <td>5.3</td>\n",
              "      <td>0.76</td>\n",
              "      <td>0.03</td>\n",
              "      <td>2.7</td>\n",
              "      <td>0.043</td>\n",
              "      <td>27.0</td>\n",
              "      <td>93.0</td>\n",
              "      <td>0.9932</td>\n",
              "      <td>3.34</td>\n",
              "      <td>0.38</td>\n",
              "      <td>9.2</td>\n",
              "      <td>poor</td>\n",
              "    </tr>\n",
              "    <tr>\n",
              "      <th>2</th>\n",
              "      <td>6.6</td>\n",
              "      <td>0.22</td>\n",
              "      <td>0.53</td>\n",
              "      <td>15.1</td>\n",
              "      <td>0.052</td>\n",
              "      <td>22.0</td>\n",
              "      <td>136.0</td>\n",
              "      <td>0.9986</td>\n",
              "      <td>2.94</td>\n",
              "      <td>0.35</td>\n",
              "      <td>9.4</td>\n",
              "      <td>poor</td>\n",
              "    </tr>\n",
              "    <tr>\n",
              "      <th>3</th>\n",
              "      <td>6.6</td>\n",
              "      <td>0.22</td>\n",
              "      <td>0.53</td>\n",
              "      <td>15.1</td>\n",
              "      <td>0.052</td>\n",
              "      <td>22.0</td>\n",
              "      <td>136.0</td>\n",
              "      <td>0.9986</td>\n",
              "      <td>2.94</td>\n",
              "      <td>0.35</td>\n",
              "      <td>9.4</td>\n",
              "      <td>poor</td>\n",
              "    </tr>\n",
              "    <tr>\n",
              "      <th>4</th>\n",
              "      <td>8.4</td>\n",
              "      <td>0.28</td>\n",
              "      <td>0.40</td>\n",
              "      <td>8.9</td>\n",
              "      <td>0.048</td>\n",
              "      <td>33.0</td>\n",
              "      <td>146.0</td>\n",
              "      <td>0.9988</td>\n",
              "      <td>3.40</td>\n",
              "      <td>0.46</td>\n",
              "      <td>9.3</td>\n",
              "      <td>poor</td>\n",
              "    </tr>\n",
              "    <tr>\n",
              "      <th>5</th>\n",
              "      <td>6.8</td>\n",
              "      <td>0.32</td>\n",
              "      <td>0.34</td>\n",
              "      <td>6.0</td>\n",
              "      <td>0.050</td>\n",
              "      <td>5.0</td>\n",
              "      <td>129.0</td>\n",
              "      <td>0.9953</td>\n",
              "      <td>3.19</td>\n",
              "      <td>0.40</td>\n",
              "      <td>9.1</td>\n",
              "      <td>poor</td>\n",
              "    </tr>\n",
              "    <tr>\n",
              "      <th>6</th>\n",
              "      <td>6.7</td>\n",
              "      <td>0.24</td>\n",
              "      <td>0.33</td>\n",
              "      <td>12.3</td>\n",
              "      <td>0.046</td>\n",
              "      <td>31.0</td>\n",
              "      <td>145.0</td>\n",
              "      <td>0.9983</td>\n",
              "      <td>3.36</td>\n",
              "      <td>0.40</td>\n",
              "      <td>9.5</td>\n",
              "      <td>poor</td>\n",
              "    </tr>\n",
              "    <tr>\n",
              "      <th>7</th>\n",
              "      <td>7.4</td>\n",
              "      <td>0.18</td>\n",
              "      <td>0.36</td>\n",
              "      <td>13.1</td>\n",
              "      <td>0.056</td>\n",
              "      <td>72.0</td>\n",
              "      <td>163.0</td>\n",
              "      <td>1.0000</td>\n",
              "      <td>3.42</td>\n",
              "      <td>0.35</td>\n",
              "      <td>9.1</td>\n",
              "      <td>average</td>\n",
              "    </tr>\n",
              "    <tr>\n",
              "      <th>8</th>\n",
              "      <td>6.0</td>\n",
              "      <td>0.16</td>\n",
              "      <td>0.30</td>\n",
              "      <td>6.7</td>\n",
              "      <td>0.043</td>\n",
              "      <td>43.0</td>\n",
              "      <td>153.0</td>\n",
              "      <td>0.9951</td>\n",
              "      <td>3.63</td>\n",
              "      <td>0.46</td>\n",
              "      <td>10.6</td>\n",
              "      <td>poor</td>\n",
              "    </tr>\n",
              "    <tr>\n",
              "      <th>9</th>\n",
              "      <td>6.7</td>\n",
              "      <td>0.24</td>\n",
              "      <td>0.33</td>\n",
              "      <td>12.3</td>\n",
              "      <td>0.046</td>\n",
              "      <td>31.0</td>\n",
              "      <td>145.0</td>\n",
              "      <td>0.9983</td>\n",
              "      <td>3.36</td>\n",
              "      <td>0.40</td>\n",
              "      <td>9.5</td>\n",
              "      <td>poor</td>\n",
              "    </tr>\n",
              "    <tr>\n",
              "      <th>10</th>\n",
              "      <td>6.8</td>\n",
              "      <td>0.28</td>\n",
              "      <td>0.35</td>\n",
              "      <td>2.3</td>\n",
              "      <td>0.042</td>\n",
              "      <td>16.0</td>\n",
              "      <td>85.0</td>\n",
              "      <td>0.9906</td>\n",
              "      <td>3.19</td>\n",
              "      <td>0.56</td>\n",
              "      <td>12.4</td>\n",
              "      <td>average</td>\n",
              "    </tr>\n",
              "    <tr>\n",
              "      <th>11</th>\n",
              "      <td>6.2</td>\n",
              "      <td>0.34</td>\n",
              "      <td>0.30</td>\n",
              "      <td>11.1</td>\n",
              "      <td>0.047</td>\n",
              "      <td>28.0</td>\n",
              "      <td>237.0</td>\n",
              "      <td>0.9981</td>\n",
              "      <td>3.18</td>\n",
              "      <td>0.49</td>\n",
              "      <td>8.7</td>\n",
              "      <td>poor</td>\n",
              "    </tr>\n",
              "    <tr>\n",
              "      <th>12</th>\n",
              "      <td>6.0</td>\n",
              "      <td>0.27</td>\n",
              "      <td>0.15</td>\n",
              "      <td>1.5</td>\n",
              "      <td>0.056</td>\n",
              "      <td>35.0</td>\n",
              "      <td>128.0</td>\n",
              "      <td>0.9936</td>\n",
              "      <td>3.12</td>\n",
              "      <td>0.45</td>\n",
              "      <td>8.8</td>\n",
              "      <td>poor</td>\n",
              "    </tr>\n",
              "    <tr>\n",
              "      <th>13</th>\n",
              "      <td>6.0</td>\n",
              "      <td>0.16</td>\n",
              "      <td>0.30</td>\n",
              "      <td>6.7</td>\n",
              "      <td>0.043</td>\n",
              "      <td>43.0</td>\n",
              "      <td>153.0</td>\n",
              "      <td>0.9951</td>\n",
              "      <td>3.63</td>\n",
              "      <td>0.46</td>\n",
              "      <td>10.6</td>\n",
              "      <td>poor</td>\n",
              "    </tr>\n",
              "    <tr>\n",
              "      <th>14</th>\n",
              "      <td>6.8</td>\n",
              "      <td>0.32</td>\n",
              "      <td>0.34</td>\n",
              "      <td>6.0</td>\n",
              "      <td>0.050</td>\n",
              "      <td>5.0</td>\n",
              "      <td>129.0</td>\n",
              "      <td>0.9953</td>\n",
              "      <td>3.19</td>\n",
              "      <td>0.40</td>\n",
              "      <td>9.1</td>\n",
              "      <td>poor</td>\n",
              "    </tr>\n",
              "    <tr>\n",
              "      <th>15</th>\n",
              "      <td>8.5</td>\n",
              "      <td>0.24</td>\n",
              "      <td>0.47</td>\n",
              "      <td>15.2</td>\n",
              "      <td>0.057</td>\n",
              "      <td>40.0</td>\n",
              "      <td>234.0</td>\n",
              "      <td>1.0005</td>\n",
              "      <td>3.02</td>\n",
              "      <td>0.66</td>\n",
              "      <td>9.0</td>\n",
              "      <td>poor</td>\n",
              "    </tr>\n",
              "    <tr>\n",
              "      <th>16</th>\n",
              "      <td>8.1</td>\n",
              "      <td>0.24</td>\n",
              "      <td>0.33</td>\n",
              "      <td>10.2</td>\n",
              "      <td>0.048</td>\n",
              "      <td>46.0</td>\n",
              "      <td>141.0</td>\n",
              "      <td>0.9972</td>\n",
              "      <td>3.16</td>\n",
              "      <td>0.48</td>\n",
              "      <td>10.3</td>\n",
              "      <td>average</td>\n",
              "    </tr>\n",
              "    <tr>\n",
              "      <th>17</th>\n",
              "      <td>7.4</td>\n",
              "      <td>0.18</td>\n",
              "      <td>0.36</td>\n",
              "      <td>13.1</td>\n",
              "      <td>0.056</td>\n",
              "      <td>72.0</td>\n",
              "      <td>163.0</td>\n",
              "      <td>1.0000</td>\n",
              "      <td>3.42</td>\n",
              "      <td>0.35</td>\n",
              "      <td>9.1</td>\n",
              "      <td>average</td>\n",
              "    </tr>\n",
              "    <tr>\n",
              "      <th>18</th>\n",
              "      <td>7.7</td>\n",
              "      <td>0.23</td>\n",
              "      <td>0.31</td>\n",
              "      <td>10.7</td>\n",
              "      <td>0.038</td>\n",
              "      <td>59.0</td>\n",
              "      <td>186.0</td>\n",
              "      <td>0.9969</td>\n",
              "      <td>3.12</td>\n",
              "      <td>0.55</td>\n",
              "      <td>9.5</td>\n",
              "      <td>average</td>\n",
              "    </tr>\n",
              "    <tr>\n",
              "      <th>19</th>\n",
              "      <td>6.5</td>\n",
              "      <td>0.22</td>\n",
              "      <td>0.25</td>\n",
              "      <td>17.1</td>\n",
              "      <td>0.050</td>\n",
              "      <td>44.0</td>\n",
              "      <td>138.0</td>\n",
              "      <td>1.0001</td>\n",
              "      <td>3.30</td>\n",
              "      <td>0.37</td>\n",
              "      <td>8.8</td>\n",
              "      <td>poor</td>\n",
              "    </tr>\n",
              "  </tbody>\n",
              "</table>\n",
              "</div>\n",
              "      <button class=\"colab-df-convert\" onclick=\"convertToInteractive('df-a2d7d670-9cc9-4065-8373-6573c83ac3ce')\"\n",
              "              title=\"Convert this dataframe to an interactive table.\"\n",
              "              style=\"display:none;\">\n",
              "        \n",
              "  <svg xmlns=\"http://www.w3.org/2000/svg\" height=\"24px\"viewBox=\"0 0 24 24\"\n",
              "       width=\"24px\">\n",
              "    <path d=\"M0 0h24v24H0V0z\" fill=\"none\"/>\n",
              "    <path d=\"M18.56 5.44l.94 2.06.94-2.06 2.06-.94-2.06-.94-.94-2.06-.94 2.06-2.06.94zm-11 1L8.5 8.5l.94-2.06 2.06-.94-2.06-.94L8.5 2.5l-.94 2.06-2.06.94zm10 10l.94 2.06.94-2.06 2.06-.94-2.06-.94-.94-2.06-.94 2.06-2.06.94z\"/><path d=\"M17.41 7.96l-1.37-1.37c-.4-.4-.92-.59-1.43-.59-.52 0-1.04.2-1.43.59L10.3 9.45l-7.72 7.72c-.78.78-.78 2.05 0 2.83L4 21.41c.39.39.9.59 1.41.59.51 0 1.02-.2 1.41-.59l7.78-7.78 2.81-2.81c.8-.78.8-2.07 0-2.86zM5.41 20L4 18.59l7.72-7.72 1.47 1.35L5.41 20z\"/>\n",
              "  </svg>\n",
              "      </button>\n",
              "      \n",
              "  <style>\n",
              "    .colab-df-container {\n",
              "      display:flex;\n",
              "      flex-wrap:wrap;\n",
              "      gap: 12px;\n",
              "    }\n",
              "\n",
              "    .colab-df-convert {\n",
              "      background-color: #E8F0FE;\n",
              "      border: none;\n",
              "      border-radius: 50%;\n",
              "      cursor: pointer;\n",
              "      display: none;\n",
              "      fill: #1967D2;\n",
              "      height: 32px;\n",
              "      padding: 0 0 0 0;\n",
              "      width: 32px;\n",
              "    }\n",
              "\n",
              "    .colab-df-convert:hover {\n",
              "      background-color: #E2EBFA;\n",
              "      box-shadow: 0px 1px 2px rgba(60, 64, 67, 0.3), 0px 1px 3px 1px rgba(60, 64, 67, 0.15);\n",
              "      fill: #174EA6;\n",
              "    }\n",
              "\n",
              "    [theme=dark] .colab-df-convert {\n",
              "      background-color: #3B4455;\n",
              "      fill: #D2E3FC;\n",
              "    }\n",
              "\n",
              "    [theme=dark] .colab-df-convert:hover {\n",
              "      background-color: #434B5C;\n",
              "      box-shadow: 0px 1px 3px 1px rgba(0, 0, 0, 0.15);\n",
              "      filter: drop-shadow(0px 1px 2px rgba(0, 0, 0, 0.3));\n",
              "      fill: #FFFFFF;\n",
              "    }\n",
              "  </style>\n",
              "\n",
              "      <script>\n",
              "        const buttonEl =\n",
              "          document.querySelector('#df-a2d7d670-9cc9-4065-8373-6573c83ac3ce button.colab-df-convert');\n",
              "        buttonEl.style.display =\n",
              "          google.colab.kernel.accessAllowed ? 'block' : 'none';\n",
              "\n",
              "        async function convertToInteractive(key) {\n",
              "          const element = document.querySelector('#df-a2d7d670-9cc9-4065-8373-6573c83ac3ce');\n",
              "          const dataTable =\n",
              "            await google.colab.kernel.invokeFunction('convertToInteractive',\n",
              "                                                     [key], {});\n",
              "          if (!dataTable) return;\n",
              "\n",
              "          const docLinkHtml = 'Like what you see? Visit the ' +\n",
              "            '<a target=\"_blank\" href=https://colab.research.google.com/notebooks/data_table.ipynb>data table notebook</a>'\n",
              "            + ' to learn more about interactive tables.';\n",
              "          element.innerHTML = '';\n",
              "          dataTable['output_type'] = 'display_data';\n",
              "          await google.colab.output.renderOutput(dataTable, element);\n",
              "          const docLink = document.createElement('div');\n",
              "          docLink.innerHTML = docLinkHtml;\n",
              "          element.appendChild(docLink);\n",
              "        }\n",
              "      </script>\n",
              "    </div>\n",
              "  </div>\n",
              "  "
            ]
          },
          "metadata": {},
          "execution_count": 148
        }
      ]
    },
    {
      "cell_type": "code",
      "source": [
        "data.quality.value_counts()"
      ],
      "metadata": {
        "colab": {
          "base_uri": "https://localhost:8080/"
        },
        "id": "OEpIL6b3oDP7",
        "outputId": "6cb0a93e-7e91-4f27-9458-bf57e6334bbe"
      },
      "execution_count": null,
      "outputs": [
        {
          "output_type": "execute_result",
          "data": {
            "text/plain": [
              "average    1258\n",
              "poor        665\n",
              "good         77\n",
              "Name: quality, dtype: int64"
            ]
          },
          "metadata": {},
          "execution_count": 149
        }
      ]
    },
    {
      "cell_type": "code",
      "source": [
        "\n",
        "for i in range(len(data.quality)):\n",
        "    if(data.quality[i] == 'average'):\n",
        "        data.quality[i] = 1\n",
        "    elif(data.quality[i] == 'poor'):\n",
        "        data.quality[i] = 0\n",
        "    else:\n",
        "        data.quality[i] = 2"
      ],
      "metadata": {
        "id": "yWqwSjljoH_1"
      },
      "execution_count": null,
      "outputs": []
    },
    {
      "cell_type": "code",
      "source": [
        "data.head()"
      ],
      "metadata": {
        "colab": {
          "base_uri": "https://localhost:8080/",
          "height": 250
        },
        "id": "4mX96kd1oMjt",
        "outputId": "f70a3321-4639-424f-d925-9b985e906c73"
      },
      "execution_count": null,
      "outputs": [
        {
          "output_type": "execute_result",
          "data": {
            "text/plain": [
              "   fixed acidity  volatile acidity  citric acid  residual sugar  chlorides  \\\n",
              "0            7.2              0.24         0.19             7.7      0.045   \n",
              "1            5.3              0.76         0.03             2.7      0.043   \n",
              "2            6.6              0.22         0.53            15.1      0.052   \n",
              "3            6.6              0.22         0.53            15.1      0.052   \n",
              "4            8.4              0.28         0.40             8.9      0.048   \n",
              "\n",
              "   free sulfur dioxide  total sulfur dioxide  density    pH  sulphates  \\\n",
              "0                 53.0                 176.0   0.9958  3.17       0.38   \n",
              "1                 27.0                  93.0   0.9932  3.34       0.38   \n",
              "2                 22.0                 136.0   0.9986  2.94       0.35   \n",
              "3                 22.0                 136.0   0.9986  2.94       0.35   \n",
              "4                 33.0                 146.0   0.9988  3.40       0.46   \n",
              "\n",
              "   alcohol quality  \n",
              "0      9.5       0  \n",
              "1      9.2       0  \n",
              "2      9.4       0  \n",
              "3      9.4       0  \n",
              "4      9.3       0  "
            ],
            "text/html": [
              "\n",
              "  <div id=\"df-01a41ae2-0f71-46f3-adbf-18205e6a917a\">\n",
              "    <div class=\"colab-df-container\">\n",
              "      <div>\n",
              "<style scoped>\n",
              "    .dataframe tbody tr th:only-of-type {\n",
              "        vertical-align: middle;\n",
              "    }\n",
              "\n",
              "    .dataframe tbody tr th {\n",
              "        vertical-align: top;\n",
              "    }\n",
              "\n",
              "    .dataframe thead th {\n",
              "        text-align: right;\n",
              "    }\n",
              "</style>\n",
              "<table border=\"1\" class=\"dataframe\">\n",
              "  <thead>\n",
              "    <tr style=\"text-align: right;\">\n",
              "      <th></th>\n",
              "      <th>fixed acidity</th>\n",
              "      <th>volatile acidity</th>\n",
              "      <th>citric acid</th>\n",
              "      <th>residual sugar</th>\n",
              "      <th>chlorides</th>\n",
              "      <th>free sulfur dioxide</th>\n",
              "      <th>total sulfur dioxide</th>\n",
              "      <th>density</th>\n",
              "      <th>pH</th>\n",
              "      <th>sulphates</th>\n",
              "      <th>alcohol</th>\n",
              "      <th>quality</th>\n",
              "    </tr>\n",
              "  </thead>\n",
              "  <tbody>\n",
              "    <tr>\n",
              "      <th>0</th>\n",
              "      <td>7.2</td>\n",
              "      <td>0.24</td>\n",
              "      <td>0.19</td>\n",
              "      <td>7.7</td>\n",
              "      <td>0.045</td>\n",
              "      <td>53.0</td>\n",
              "      <td>176.0</td>\n",
              "      <td>0.9958</td>\n",
              "      <td>3.17</td>\n",
              "      <td>0.38</td>\n",
              "      <td>9.5</td>\n",
              "      <td>0</td>\n",
              "    </tr>\n",
              "    <tr>\n",
              "      <th>1</th>\n",
              "      <td>5.3</td>\n",
              "      <td>0.76</td>\n",
              "      <td>0.03</td>\n",
              "      <td>2.7</td>\n",
              "      <td>0.043</td>\n",
              "      <td>27.0</td>\n",
              "      <td>93.0</td>\n",
              "      <td>0.9932</td>\n",
              "      <td>3.34</td>\n",
              "      <td>0.38</td>\n",
              "      <td>9.2</td>\n",
              "      <td>0</td>\n",
              "    </tr>\n",
              "    <tr>\n",
              "      <th>2</th>\n",
              "      <td>6.6</td>\n",
              "      <td>0.22</td>\n",
              "      <td>0.53</td>\n",
              "      <td>15.1</td>\n",
              "      <td>0.052</td>\n",
              "      <td>22.0</td>\n",
              "      <td>136.0</td>\n",
              "      <td>0.9986</td>\n",
              "      <td>2.94</td>\n",
              "      <td>0.35</td>\n",
              "      <td>9.4</td>\n",
              "      <td>0</td>\n",
              "    </tr>\n",
              "    <tr>\n",
              "      <th>3</th>\n",
              "      <td>6.6</td>\n",
              "      <td>0.22</td>\n",
              "      <td>0.53</td>\n",
              "      <td>15.1</td>\n",
              "      <td>0.052</td>\n",
              "      <td>22.0</td>\n",
              "      <td>136.0</td>\n",
              "      <td>0.9986</td>\n",
              "      <td>2.94</td>\n",
              "      <td>0.35</td>\n",
              "      <td>9.4</td>\n",
              "      <td>0</td>\n",
              "    </tr>\n",
              "    <tr>\n",
              "      <th>4</th>\n",
              "      <td>8.4</td>\n",
              "      <td>0.28</td>\n",
              "      <td>0.40</td>\n",
              "      <td>8.9</td>\n",
              "      <td>0.048</td>\n",
              "      <td>33.0</td>\n",
              "      <td>146.0</td>\n",
              "      <td>0.9988</td>\n",
              "      <td>3.40</td>\n",
              "      <td>0.46</td>\n",
              "      <td>9.3</td>\n",
              "      <td>0</td>\n",
              "    </tr>\n",
              "  </tbody>\n",
              "</table>\n",
              "</div>\n",
              "      <button class=\"colab-df-convert\" onclick=\"convertToInteractive('df-01a41ae2-0f71-46f3-adbf-18205e6a917a')\"\n",
              "              title=\"Convert this dataframe to an interactive table.\"\n",
              "              style=\"display:none;\">\n",
              "        \n",
              "  <svg xmlns=\"http://www.w3.org/2000/svg\" height=\"24px\"viewBox=\"0 0 24 24\"\n",
              "       width=\"24px\">\n",
              "    <path d=\"M0 0h24v24H0V0z\" fill=\"none\"/>\n",
              "    <path d=\"M18.56 5.44l.94 2.06.94-2.06 2.06-.94-2.06-.94-.94-2.06-.94 2.06-2.06.94zm-11 1L8.5 8.5l.94-2.06 2.06-.94-2.06-.94L8.5 2.5l-.94 2.06-2.06.94zm10 10l.94 2.06.94-2.06 2.06-.94-2.06-.94-.94-2.06-.94 2.06-2.06.94z\"/><path d=\"M17.41 7.96l-1.37-1.37c-.4-.4-.92-.59-1.43-.59-.52 0-1.04.2-1.43.59L10.3 9.45l-7.72 7.72c-.78.78-.78 2.05 0 2.83L4 21.41c.39.39.9.59 1.41.59.51 0 1.02-.2 1.41-.59l7.78-7.78 2.81-2.81c.8-.78.8-2.07 0-2.86zM5.41 20L4 18.59l7.72-7.72 1.47 1.35L5.41 20z\"/>\n",
              "  </svg>\n",
              "      </button>\n",
              "      \n",
              "  <style>\n",
              "    .colab-df-container {\n",
              "      display:flex;\n",
              "      flex-wrap:wrap;\n",
              "      gap: 12px;\n",
              "    }\n",
              "\n",
              "    .colab-df-convert {\n",
              "      background-color: #E8F0FE;\n",
              "      border: none;\n",
              "      border-radius: 50%;\n",
              "      cursor: pointer;\n",
              "      display: none;\n",
              "      fill: #1967D2;\n",
              "      height: 32px;\n",
              "      padding: 0 0 0 0;\n",
              "      width: 32px;\n",
              "    }\n",
              "\n",
              "    .colab-df-convert:hover {\n",
              "      background-color: #E2EBFA;\n",
              "      box-shadow: 0px 1px 2px rgba(60, 64, 67, 0.3), 0px 1px 3px 1px rgba(60, 64, 67, 0.15);\n",
              "      fill: #174EA6;\n",
              "    }\n",
              "\n",
              "    [theme=dark] .colab-df-convert {\n",
              "      background-color: #3B4455;\n",
              "      fill: #D2E3FC;\n",
              "    }\n",
              "\n",
              "    [theme=dark] .colab-df-convert:hover {\n",
              "      background-color: #434B5C;\n",
              "      box-shadow: 0px 1px 3px 1px rgba(0, 0, 0, 0.15);\n",
              "      filter: drop-shadow(0px 1px 2px rgba(0, 0, 0, 0.3));\n",
              "      fill: #FFFFFF;\n",
              "    }\n",
              "  </style>\n",
              "\n",
              "      <script>\n",
              "        const buttonEl =\n",
              "          document.querySelector('#df-01a41ae2-0f71-46f3-adbf-18205e6a917a button.colab-df-convert');\n",
              "        buttonEl.style.display =\n",
              "          google.colab.kernel.accessAllowed ? 'block' : 'none';\n",
              "\n",
              "        async function convertToInteractive(key) {\n",
              "          const element = document.querySelector('#df-01a41ae2-0f71-46f3-adbf-18205e6a917a');\n",
              "          const dataTable =\n",
              "            await google.colab.kernel.invokeFunction('convertToInteractive',\n",
              "                                                     [key], {});\n",
              "          if (!dataTable) return;\n",
              "\n",
              "          const docLinkHtml = 'Like what you see? Visit the ' +\n",
              "            '<a target=\"_blank\" href=https://colab.research.google.com/notebooks/data_table.ipynb>data table notebook</a>'\n",
              "            + ' to learn more about interactive tables.';\n",
              "          element.innerHTML = '';\n",
              "          dataTable['output_type'] = 'display_data';\n",
              "          await google.colab.output.renderOutput(dataTable, element);\n",
              "          const docLink = document.createElement('div');\n",
              "          docLink.innerHTML = docLinkHtml;\n",
              "          element.appendChild(docLink);\n",
              "        }\n",
              "      </script>\n",
              "    </div>\n",
              "  </div>\n",
              "  "
            ]
          },
          "metadata": {},
          "execution_count": 151
        }
      ]
    },
    {
      "cell_type": "code",
      "source": [
        "#correlation matrix\n",
        "import seaborn as sns\n",
        "matrix = data.corr()\n",
        "sns.heatmap(matrix, annot=True)"
      ],
      "metadata": {
        "colab": {
          "base_uri": "https://localhost:8080/",
          "height": 624
        },
        "id": "BHzheFBZ_9c8",
        "outputId": "899d444f-f977-4437-af18-c1420648897f"
      },
      "execution_count": null,
      "outputs": [
        {
          "output_type": "stream",
          "name": "stderr",
          "text": [
            "<ipython-input-152-38ede3e41016>:2: FutureWarning: The default value of numeric_only in DataFrame.corr is deprecated. In a future version, it will default to False. Select only valid columns or specify the value of numeric_only to silence this warning.\n",
            "  matrix = data.corr()\n"
          ]
        },
        {
          "output_type": "execute_result",
          "data": {
            "text/plain": [
              "<Axes: >"
            ]
          },
          "metadata": {},
          "execution_count": 152
        },
        {
          "output_type": "display_data",
          "data": {
            "text/plain": [
              "<Figure size 640x480 with 2 Axes>"
            ],
            "image/png": "[encoded data removed]"
          },
          "metadata": {}
        }
      ]
    },
    {
      "cell_type": "code",
      "source": [
        "from scipy.stats import f_oneway\n",
        "\n",
        "\n",
        "group_a = data[data['quality'] == 0][['fixed acidity','volatile acidity','citric acid','residual sugar','chlorides','free sulfur dioxide','total sulfur dioxide','density','pH','sulphates','alcohol']]\n",
        "group_b = data[data['quality'] == 1][['fixed acidity','volatile acidity','citric acid','residual sugar','chlorides','free sulfur dioxide','total sulfur dioxide','density','pH','sulphates','alcohol']]\n",
        "group_c = data[data['quality'] == 2][['fixed acidity','volatile acidity','citric acid','residual sugar','chlorides','free sulfur dioxide','total sulfur dioxide','density','pH','sulphates','alcohol']]\n",
        "\n",
        "# ANOVA test for each feature\n",
        "for feature in ['fixed acidity','volatile acidity','citric acid','residual sugar','chlorides','free sulfur dioxide','total sulfur dioxide','density','pH','sulphates','alcohol']:\n",
        "    f_statistic, p_value = f_oneway(group_a[feature], group_b[feature], group_c[feature])\n",
        "    print(f\"ANOVA test results for {feature}:\")\n",
        "    if p_value < 0.05:\n",
        "        print(\"There is a significant difference in means between the groups.\")\n",
        "    else:\n",
        "        print(\"There is no significant difference in means between the groups.\")\n",
        "    print()"
      ],
      "metadata": {
        "colab": {
          "base_uri": "https://localhost:8080/"
        },
        "id": "8HbhARFwoY7V",
        "outputId": "59423e90-7952-4abd-ec1a-72e51f8e2644"
      },
      "execution_count": null,
      "outputs": [
        {
          "output_type": "stream",
          "name": "stdout",
          "text": [
            "ANOVA test results for fixed acidity:\n",
            "There is a significant difference in means between the groups.\n",
            "\n",
            "ANOVA test results for volatile acidity:\n",
            "There is a significant difference in means between the groups.\n",
            "\n",
            "ANOVA test results for citric acid:\n",
            "There is no significant difference in means between the groups.\n",
            "\n",
            "ANOVA test results for residual sugar:\n",
            "There is a significant difference in means between the groups.\n",
            "\n",
            "ANOVA test results for chlorides:\n",
            "There is a significant difference in means between the groups.\n",
            "\n",
            "ANOVA test results for free sulfur dioxide:\n",
            "There is no significant difference in means between the groups.\n",
            "\n",
            "ANOVA test results for total sulfur dioxide:\n",
            "There is a significant difference in means between the groups.\n",
            "\n",
            "ANOVA test results for density:\n",
            "There is a significant difference in means between the groups.\n",
            "\n",
            "ANOVA test results for pH:\n",
            "There is no significant difference in means between the groups.\n",
            "\n",
            "ANOVA test results for sulphates:\n",
            "There is no significant difference in means between the groups.\n",
            "\n",
            "ANOVA test results for alcohol:\n",
            "There is a significant difference in means between the groups.\n",
            "\n"
          ]
        }
      ]
    },
    {
      "cell_type": "code",
      "source": [
        "#Problem 2 : Can we identify good and poor wines?\n",
        "#[Outlier Detection]"
      ],
      "metadata": {
        "id": "2R3a_yNi_Z_-"
      },
      "execution_count": null,
      "outputs": []
    },
    {
      "cell_type": "code",
      "source": [
        "from scipy.spatial.distance import mahalanobis\n",
        "from scipy.stats import chi2"
      ],
      "metadata": {
        "id": "iZHT_L9rpwTO"
      },
      "execution_count": null,
      "outputs": []
    },
    {
      "cell_type": "code",
      "source": [
        "x = data.drop(\"quality\", inplace=False, axis=1)\n",
        "X = np.array(x)\n",
        "X"
      ],
      "metadata": {
        "colab": {
          "base_uri": "https://localhost:8080/"
        },
        "id": "k0uiMe1mqH6_",
        "outputId": "efa2fa9a-3acc-4e97-9f17-c74409b4bd88"
      },
      "execution_count": null,
      "outputs": [
        {
          "output_type": "execute_result",
          "data": {
            "text/plain": [
              "array([[ 7.2       ,  0.24      ,  0.19      , ...,  3.17      ,\n",
              "         0.38      ,  9.5       ],\n",
              "       [ 5.3       ,  0.76      ,  0.03      , ...,  3.34      ,\n",
              "         0.38      ,  9.2       ],\n",
              "       [ 6.6       ,  0.22      ,  0.53      , ...,  2.94      ,\n",
              "         0.35      ,  9.4       ],\n",
              "       ...,\n",
              "       [ 7.3       ,  0.28      ,  0.35      , ...,  3.18      ,\n",
              "         0.47      , 10.7       ],\n",
              "       [ 7.4       ,  0.16      ,  0.3       , ...,  3.11      ,\n",
              "         0.42      , 11.43333333],\n",
              "       [ 6.4       ,  0.31      ,  0.27      , ...,  3.27      ,\n",
              "         0.45      , 11.1       ]])"
            ]
          },
          "metadata": {},
          "execution_count": 156
        }
      ]
    },
    {
      "cell_type": "code",
      "source": [
        "# The covariance matrix of the dataset\n",
        "covariance_matrix = np.cov(X.T)\n",
        "\n",
        "# The inverse of the covariance matrix\n",
        "inv_covariance_matrix = np.linalg.inv(covariance_matrix)\n",
        "\n",
        "# The mean of the dataset\n",
        "mean_vector = np.mean(X, axis=0)\n",
        "\n",
        "# Initializing an empty array to store the Mahalanobis distances\n",
        "mahalanobis_distances = np.zeros(X.shape[0])\n",
        "\n",
        "# The Mahalanobis distance for each observation\n",
        "for i, observation in enumerate(X):\n",
        "    mahalanobis_distances[i] = mahalanobis(observation, mean_vector, inv_covariance_matrix)"
      ],
      "metadata": {
        "id": "oAdCu-n3qK1I"
      },
      "execution_count": null,
      "outputs": []
    },
    {
      "cell_type": "code",
      "source": [
        "# Setting the desired significance level (e.g., 0.05 for a 95% confidence level)\n",
        "alpha = 0.05\n",
        "\n",
        "# Determining the critical value for the chi-squared distribution with 'm' degrees of freedom\n",
        "chi2_critical_value = chi2.ppf(1 - alpha, df=11)\n",
        "\n",
        "# Setting the threshold for outlier detection\n",
        "threshold = chi2_critical_value"
      ],
      "metadata": {
        "id": "DamBdWyzqPKA"
      },
      "execution_count": null,
      "outputs": []
    },
    {
      "cell_type": "code",
      "source": [
        "# The indices of the observations that exceed the threshold\n",
        "outlier_indices = np.where(mahalanobis_distances > threshold)[0]\n",
        "\n",
        "# The indices of the outliers\n",
        "print(\"Outlier indices:\", outlier_indices)"
      ],
      "metadata": {
        "colab": {
          "base_uri": "https://localhost:8080/"
        },
        "id": "1D3hU2yDqTA1",
        "outputId": "f4bb2a2c-902f-4c88-bc2f-7895517f80df"
      },
      "execution_count": null,
      "outputs": [
        {
          "output_type": "stream",
          "name": "stdout",
          "text": [
            "Outlier indices: []\n"
          ]
        }
      ]
    },
    {
      "cell_type": "code",
      "source": [
        "#Problem 3 : Comparing two different types of Classification methods"
      ],
      "metadata": {
        "id": "BU11lf-U_gQL"
      },
      "execution_count": null,
      "outputs": []
    },
    {
      "cell_type": "code",
      "source": [
        "from sklearn.model_selection import train_test_split\n",
        "from sklearn.preprocessing import StandardScaler\n",
        "from sklearn.metrics import accuracy_score, f1_score, confusion_matrix, precision_score, recall_score\n",
        "from sklearn import svm\n",
        "from sklearn.svm import SVC\n",
        "from sklearn.ensemble import RandomForestClassifier"
      ],
      "metadata": {
        "id": "vuNH-kuLqZVD"
      },
      "execution_count": null,
      "outputs": []
    },
    {
      "cell_type": "code",
      "source": [
        "x_data = data[['fixed acidity','volatile acidity','residual sugar','chlorides','total sulfur dioxide','alcohol']]\n",
        "y_data = data['quality']"
      ],
      "metadata": {
        "id": "WXul3Q6bqidh"
      },
      "execution_count": null,
      "outputs": []
    },
    {
      "cell_type": "code",
      "source": [
        "x_train, x_test, y_train, y_test = train_test_split(x_data, y_data, test_size=0.3, random_state=42)"
      ],
      "metadata": {
        "id": "x95D3n0Wqni1"
      },
      "execution_count": null,
      "outputs": []
    },
    {
      "cell_type": "code",
      "source": [
        "x_train.shape, x_test.shape, y_train.shape, y_test.shape"
      ],
      "metadata": {
        "colab": {
          "base_uri": "https://localhost:8080/"
        },
        "id": "kkZbH70fqz7A",
        "outputId": "100492f3-ae52-425a-f93b-270e02acc8cd"
      },
      "execution_count": null,
      "outputs": [
        {
          "output_type": "execute_result",
          "data": {
            "text/plain": [
              "((1400, 6), (600, 6), (1400,), (600,))"
            ]
          },
          "metadata": {},
          "execution_count": 164
        }
      ]
    },
    {
      "cell_type": "code",
      "source": [
        "y_train = y_train.astype(int)\n",
        "y_test = y_test.astype(int)\n"
      ],
      "metadata": {
        "id": "rBaY3Ml50FSm"
      },
      "execution_count": null,
      "outputs": []
    },
    {
      "cell_type": "code",
      "source": [
        "sc = StandardScaler()\n",
        "x_train = sc.fit_transform(x_train)\n",
        "x_test  = sc.transform(x_test)"
      ],
      "metadata": {
        "id": "buEjbT9gq4Lm"
      },
      "execution_count": null,
      "outputs": []
    },
    {
      "cell_type": "code",
      "source": [
        "svm_model = svm.SVC(kernel='linear')\n",
        "svm_model.fit(x_train, y_train)\n"
      ],
      "metadata": {
        "colab": {
          "base_uri": "https://localhost:8080/",
          "height": 75
        },
        "id": "wxqhg7Yrq8od",
        "outputId": "2bc520cc-c437-4993-8e97-c8961d75b85e"
      },
      "execution_count": null,
      "outputs": [
        {
          "output_type": "execute_result",
          "data": {
            "text/plain": [
              "SVC(kernel='linear')"
            ],
            "text/html": [
              "<style>#sk-container-id-4 {color: black;background-color: white;}#sk-container-id-4 pre{padding: 0;}#sk-container-id-4 div.sk-toggleable {background-color: white;}#sk-container-id-4 label.sk-toggleable__label {cursor: pointer;display: block;width: 100%;margin-bottom: 0;padding: 0.3em;box-sizing: border-box;text-align: center;}#sk-container-id-4 label.sk-toggleable__label-arrow:before {content: \"▸\";float: left;margin-right: 0.25em;color: #696969;}#sk-container-id-4 label.sk-toggleable__label-arrow:hover:before {color: black;}#sk-container-id-4 div.sk-estimator:hover label.sk-toggleable__label-arrow:before {color: black;}#sk-container-id-4 div.sk-toggleable__content {max-height: 0;max-width: 0;overflow: hidden;text-align: left;background-color: #f0f8ff;}#sk-container-id-4 div.sk-toggleable__content pre {margin: 0.2em;color: black;border-radius: 0.25em;background-color: #f0f8ff;}#sk-container-id-4 input.sk-toggleable__control:checked~div.sk-toggleable__content {max-height: 200px;max-width: 100%;overflow: auto;}#sk-container-id-4 input.sk-toggleable__control:checked~label.sk-toggleable__label-arrow:before {content: \"▾\";}#sk-container-id-4 div.sk-estimator input.sk-toggleable__control:checked~label.sk-toggleable__label {background-color: #d4ebff;}#sk-container-id-4 div.sk-label input.sk-toggleable__control:checked~label.sk-toggleable__label {background-color: #d4ebff;}#sk-container-id-4 input.sk-hidden--visually {border: 0;clip: rect(1px 1px 1px 1px);clip: rect(1px, 1px, 1px, 1px);height: 1px;margin: -1px;overflow: hidden;padding: 0;position: absolute;width: 1px;}#sk-container-id-4 div.sk-estimator {font-family: monospace;background-color: #f0f8ff;border: 1px dotted black;border-radius: 0.25em;box-sizing: border-box;margin-bottom: 0.5em;}#sk-container-id-4 div.sk-estimator:hover {background-color: #d4ebff;}#sk-container-id-4 div.sk-parallel-item::after {content: \"\";width: 100%;border-bottom: 1px solid gray;flex-grow: 1;}#sk-container-id-4 div.sk-label:hover label.sk-toggleable__label {background-color: #d4ebff;}#sk-container-id-4 div.sk-serial::before {content: \"\";position: absolute;border-left: 1px solid gray;box-sizing: border-box;top: 0;bottom: 0;left: 50%;z-index: 0;}#sk-container-id-4 div.sk-serial {display: flex;flex-direction: column;align-items: center;background-color: white;padding-right: 0.2em;padding-left: 0.2em;position: relative;}#sk-container-id-4 div.sk-item {position: relative;z-index: 1;}#sk-container-id-4 div.sk-parallel {display: flex;align-items: stretch;justify-content: center;background-color: white;position: relative;}#sk-container-id-4 div.sk-item::before, #sk-container-id-4 div.sk-parallel-item::before {content: \"\";position: absolute;border-left: 1px solid gray;box-sizing: border-box;top: 0;bottom: 0;left: 50%;z-index: -1;}#sk-container-id-4 div.sk-parallel-item {display: flex;flex-direction: column;z-index: 1;position: relative;background-color: white;}#sk-container-id-4 div.sk-parallel-item:first-child::after {align-self: flex-end;width: 50%;}#sk-container-id-4 div.sk-parallel-item:last-child::after {align-self: flex-start;width: 50%;}#sk-container-id-4 div.sk-parallel-item:only-child::after {width: 0;}#sk-container-id-4 div.sk-dashed-wrapped {border: 1px dashed gray;margin: 0 0.4em 0.5em 0.4em;box-sizing: border-box;padding-bottom: 0.4em;background-color: white;}#sk-container-id-4 div.sk-label label {font-family: monospace;font-weight: bold;display: inline-block;line-height: 1.2em;}#sk-container-id-4 div.sk-label-container {text-align: center;}#sk-container-id-4 div.sk-container {/* jupyter's `normalize.less` sets `[hidden] { display: none; }` but bootstrap.min.css set `[hidden] { display: none !important; }` so we also need the `!important` here to be able to override the default hidden behavior on the sphinx rendered scikit-learn.org. See: https://github.com/scikit-learn/scikit-learn/issues/21755 */display: inline-block !important;position: relative;}#sk-container-id-4 div.sk-text-repr-fallback {display: none;}</style><div id=\"sk-container-id-4\" class=\"sk-top-container\"><div class=\"sk-text-repr-fallback\"><pre>SVC(kernel=&#x27;linear&#x27;)</pre><b>In a Jupyter environment, please rerun this cell to show the HTML representation or trust the notebook. <br />On GitHub, the HTML representation is unable to render, please try loading this page with nbviewer.org.</b></div><div class=\"sk-container\" hidden><div class=\"sk-item\"><div class=\"sk-estimator sk-toggleable\"><input class=\"sk-toggleable__control sk-hidden--visually\" id=\"sk-estimator-id-4\" type=\"checkbox\" checked><label for=\"sk-estimator-id-4\" class=\"sk-toggleable__label sk-toggleable__label-arrow\">SVC</label><div class=\"sk-toggleable__content\"><pre>SVC(kernel=&#x27;linear&#x27;)</pre></div></div></div></div></div>"
            ]
          },
          "metadata": {},
          "execution_count": 167
        }
      ]
    },
    {
      "cell_type": "code",
      "source": [
        "y_pred = svm_model.predict(x_test)\n",
        "accuracy_score(y_test,y_pred)"
      ],
      "metadata": {
        "colab": {
          "base_uri": "https://localhost:8080/"
        },
        "id": "VzLd7KhJ0h-J",
        "outputId": "8978fcc9-e3d5-47f5-e0e4-10f225c872cc"
      },
      "execution_count": null,
      "outputs": [
        {
          "output_type": "execute_result",
          "data": {
            "text/plain": [
              "0.705"
            ]
          },
          "metadata": {},
          "execution_count": 168
        }
      ]
    },
    {
      "cell_type": "code",
      "source": [
        "precision_score(y_test,y_pred,average='weighted')"
      ],
      "metadata": {
        "colab": {
          "base_uri": "https://localhost:8080/"
        },
        "id": "Iynng9ZD75Ha",
        "outputId": "50f70217-acf9-42dc-fb19-6a834c9743fe"
      },
      "execution_count": null,
      "outputs": [
        {
          "output_type": "stream",
          "name": "stderr",
          "text": [
            "/usr/local/lib/python3.10/dist-packages/sklearn/metrics/_classification.py:1344: UndefinedMetricWarning: Precision is ill-defined and being set to 0.0 in labels with no predicted samples. Use `zero_division` parameter to control this behavior.\n",
            "  _warn_prf(average, modifier, msg_start, len(result))\n"
          ]
        },
        {
          "output_type": "execute_result",
          "data": {
            "text/plain": [
              "0.6712767527175753"
            ]
          },
          "metadata": {},
          "execution_count": 169
        }
      ]
    },
    {
      "cell_type": "code",
      "source": [
        "recall_score(y_test,y_pred,average='weighted')"
      ],
      "metadata": {
        "colab": {
          "base_uri": "https://localhost:8080/"
        },
        "id": "mUhlwB5u8dYh",
        "outputId": "5496ce38-7931-476c-c228-bde5dbca206a"
      },
      "execution_count": null,
      "outputs": [
        {
          "output_type": "execute_result",
          "data": {
            "text/plain": [
              "0.705"
            ]
          },
          "metadata": {},
          "execution_count": 170
        }
      ]
    },
    {
      "cell_type": "code",
      "source": [
        "f1_score(y_test,y_pred,average='weighted')"
      ],
      "metadata": {
        "colab": {
          "base_uri": "https://localhost:8080/"
        },
        "id": "-lIYoW_d97KA",
        "outputId": "e5dde604-865b-415d-863a-e2a094843228"
      },
      "execution_count": null,
      "outputs": [
        {
          "output_type": "execute_result",
          "data": {
            "text/plain": [
              "0.6819340403178148"
            ]
          },
          "metadata": {},
          "execution_count": 171
        }
      ]
    },
    {
      "cell_type": "code",
      "source": [
        "\n",
        "cm = confusion_matrix(y_test, y_pred)\n",
        "\n",
        "sns.heatmap(cm, annot=True, cmap='Blues', fmt='g')\n",
        "\n",
        "plt.xlabel('Predicted')\n",
        "plt.ylabel('True')\n",
        "plt.title('Confusion Matrix for SVM')\n",
        "\n",
        "\n",
        "plt.show()"
      ],
      "metadata": {
        "colab": {
          "base_uri": "https://localhost:8080/",
          "height": 472
        },
        "id": "p1lod1Mq7ZVv",
        "outputId": "a3db72ae-c251-4ebb-a91a-d8eddf639a0b"
      },
      "execution_count": null,
      "outputs": [
        {
          "output_type": "display_data",
          "data": {
            "text/plain": [
              "<Figure size 640x480 with 2 Axes>"
            ],
            "image/png": "[encoded data removed]"
          },
          "metadata": {}
        }
      ]
    },
    {
      "cell_type": "code",
      "source": [
        "rf  = RandomForestClassifier(n_estimators=100)\n",
        "model_ran = rf.fit(x_train, y_train)\n",
        "y_pred=rf.predict(x_test)\n",
        "accuracy_score(y_test, y_pred)"
      ],
      "metadata": {
        "colab": {
          "base_uri": "https://localhost:8080/"
        },
        "id": "k2-g_cRbrBne",
        "outputId": "6688da10-7938-4870-bebc-788e0b633ee3"
      },
      "execution_count": null,
      "outputs": [
        {
          "output_type": "execute_result",
          "data": {
            "text/plain": [
              "0.8"
            ]
          },
          "metadata": {},
          "execution_count": 173
        }
      ]
    },
    {
      "cell_type": "code",
      "source": [
        "precision_score(y_test,y_pred,average='weighted')"
      ],
      "metadata": {
        "colab": {
          "base_uri": "https://localhost:8080/"
        },
        "id": "qQST_ORFrlGm",
        "outputId": "be6a9b5c-5556-4894-a0da-d4c3f76f7756"
      },
      "execution_count": null,
      "outputs": [
        {
          "output_type": "execute_result",
          "data": {
            "text/plain": [
              "0.8048931623931624"
            ]
          },
          "metadata": {},
          "execution_count": 174
        }
      ]
    },
    {
      "cell_type": "code",
      "source": [
        "recall_score(y_test,y_pred,average='weighted')"
      ],
      "metadata": {
        "colab": {
          "base_uri": "https://localhost:8080/"
        },
        "id": "kDPdQWHK82aM",
        "outputId": "2f888e8f-509c-4416-f18a-0cc1603e403f"
      },
      "execution_count": null,
      "outputs": [
        {
          "output_type": "execute_result",
          "data": {
            "text/plain": [
              "0.8"
            ]
          },
          "metadata": {},
          "execution_count": 175
        }
      ]
    },
    {
      "cell_type": "code",
      "source": [
        "f1_score(y_test,y_pred,average='weighted')"
      ],
      "metadata": {
        "colab": {
          "base_uri": "https://localhost:8080/"
        },
        "id": "AZ1ZcQua-gcN",
        "outputId": "9da5d287-bbde-43c5-87b9-45bf41e5694f"
      },
      "execution_count": null,
      "outputs": [
        {
          "output_type": "execute_result",
          "data": {
            "text/plain": [
              "0.7946666562187469"
            ]
          },
          "metadata": {},
          "execution_count": 176
        }
      ]
    },
    {
      "cell_type": "code",
      "source": [
        "\n",
        "cm = confusion_matrix(y_test, y_pred)\n",
        "sns.heatmap(cm, annot=True, cmap='Reds', fmt='g')\n",
        "\n",
        "plt.xlabel('Predicted')\n",
        "plt.ylabel('True')\n",
        "plt.title('Confusion Matrix for Random forest')\n",
        "\n",
        "\n",
        "plt.show()"
      ],
      "metadata": {
        "colab": {
          "base_uri": "https://localhost:8080/",
          "height": 472
        },
        "id": "JkEbCdsS9Bfa",
        "outputId": "22fbca0e-f70d-4f86-ec5c-faebc7244687"
      },
      "execution_count": null,
      "outputs": [
        {
          "output_type": "display_data",
          "data": {
            "text/plain": [
              "<Figure size 640x480 with 2 Axes>"
            ],
            "image/png": "[encoded data removed]"
          },
          "metadata": {}
        }
      ]
    },
    {
      "cell_type": "code",
      "source": [],
      "metadata": {
        "id": "A4VIRfgE6nY7"
      },
      "execution_count": null,
      "outputs": []
    }
  ]
}